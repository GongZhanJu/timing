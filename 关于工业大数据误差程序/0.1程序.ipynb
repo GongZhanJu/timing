{
 "cells": [
  {
   "cell_type": "code",
   "execution_count": 1,
   "id": "fa9f16bd-1576-49b1-92e2-e1c7cd362346",
   "metadata": {
    "tags": []
   },
   "outputs": [],
   "source": [
    "import numpy as np\n",
    "import pandas as pd\n",
    "import tensorflow as tf\n",
    "from keras import layers\n",
    "from sklearn.metrics import mean_squared_error\n",
    "from keras import regularizers\n",
    "import tensorflow as tf\n",
    "import matplotlib.pyplot as plt"
   ]
  },
  {
   "cell_type": "code",
   "execution_count": 2,
   "id": "4d1fd6a1-0af5-440a-ba41-622757857528",
   "metadata": {
    "tags": []
   },
   "outputs": [],
   "source": [
    "def scale_minmax(col):\n",
    "    return (col - col.min()) / (col.max() - col.min())\n",
    "\n",
    "\n",
    "def mse(y_ture, y_pred):\n",
    "    return mean_squared_error(y_ture, y_pred)"
   ]
  },
  {
   "cell_type": "code",
   "execution_count": 3,
   "id": "cc339bfe-0fe5-495a-81e2-0aa115e03268",
   "metadata": {
    "tags": []
   },
   "outputs": [],
   "source": [
    "# 加载训练数据\n",
    "train_dataset = pd.read_csv('./data.tsv', sep='\\t', skipinitialspace=True)\n",
    "# 加载测试数据     ！！！ 测试数据集为真实值，不能进行调整，否则将会导致实际模型测试结果和真实预测结果存在偏差，使得最终加工的作品和预期不一致\n",
    "test_dataset = pd.read_csv('./test_adjustments.tsv', sep='\\t', skipinitialspace=True)"
   ]
  },
  {
   "cell_type": "code",
   "execution_count": 4,
   "id": "6d6c770f-6e69-4a2e-8977-b37e3d369487",
   "metadata": {
    "tags": []
   },
   "outputs": [],
   "source": [
    "np.set_printoptions(precision=3, suppress=True)\n",
    "dataset = train_dataset.copy()\n",
    "\n",
    "average = np.average(dataset.values[:, :18], axis=0)\n",
    "variance = np.var(dataset.values[:, :18], axis=0)\n"
   ]
  },
  {
   "cell_type": "code",
   "execution_count": 5,
   "id": "4d607df6-b3cb-4bcc-a7f6-b69c9dff04af",
   "metadata": {
    "tags": []
   },
   "outputs": [],
   "source": [
    "train_features = dataset.copy()\n",
    "test_features = test_dataset.copy()\n",
    "train_labels = train_features[['补偿' + str(i) for i in range(8)]].copy()\n",
    "test_labels = test_features[['补偿' + str(i) for i in range(8)]].copy()\n",
    "\n",
    "train_features = train_features.drop(['补偿' + str(i) for i in range(8)], axis=1)\n",
    "test_features = test_features.drop(['补偿' + str(i) for i in range(8)], axis=1)\n"
   ]
  },
  {
   "cell_type": "code",
   "execution_count": 6,
   "id": "9afa56a7-0f5a-4fb3-b58e-8433fceda911",
   "metadata": {
    "tags": []
   },
   "outputs": [
    {
     "name": "stdout",
     "output_type": "stream",
     "text": [
      "Model: \"sequential\"\n",
      "_________________________________________________________________\n",
      " Layer (type)                Output Shape              Param #   \n",
      "=================================================================\n",
      " dense (Dense)               (None, 600)               11400     \n",
      "                                                                 \n",
      " batch_normalization (BatchN  (None, 600)              2400      \n",
      " ormalization)                                                   \n",
      "                                                                 \n",
      " dense_1 (Dense)             (None, 600)               360600    \n",
      "                                                                 \n",
      " batch_normalization_1 (Batc  (None, 600)              2400      \n",
      " hNormalization)                                                 \n",
      "                                                                 \n",
      " dense_2 (Dense)             (None, 8)                 4808      \n",
      "                                                                 \n",
      "=================================================================\n",
      "Total params: 381,608\n",
      "Trainable params: 379,208\n",
      "Non-trainable params: 2,400\n",
      "_________________________________________________________________\n"
     ]
    },
    {
     "name": "stderr",
     "output_type": "stream",
     "text": [
      "2023-08-28 12:15:48.633814: W tensorflow/stream_executor/platform/default/dso_loader.cc:64] Could not load dynamic library 'libcuda.so.1'; dlerror: libcuda.so.1: cannot open shared object file: No such file or directory; LD_LIBRARY_PATH: /usr/local/nvidia/lib:/usr/local/nvidia/lib64\n",
      "2023-08-28 12:15:48.633848: W tensorflow/stream_executor/cuda/cuda_driver.cc:269] failed call to cuInit: UNKNOWN ERROR (303)\n",
      "2023-08-28 12:15:48.633874: I tensorflow/stream_executor/cuda/cuda_diagnostics.cc:156] kernel driver does not appear to be running on this host (58c881efe57c): /proc/driver/nvidia/version does not exist\n",
      "2023-08-28 12:15:48.634037: I tensorflow/core/platform/cpu_feature_guard.cc:151] This TensorFlow binary is optimized with oneAPI Deep Neural Network Library (oneDNN) to use the following CPU instructions in performance-critical operations:  AVX2 AVX512F FMA\n",
      "To enable them in other operations, rebuild TensorFlow with the appropriate compiler flags.\n"
     ]
    }
   ],
   "source": [
    "# 创建模型\n",
    "model = tf.keras.Sequential([\n",
    "    layers.Dense(600, input_dim=train_features.shape[1], activation=\"relu\"),\n",
    "    layers.BatchNormalization(),\n",
    "    layers.Dense(600, activation=\"relu\", kernel_regularizer=regularizers.l2(0.01)),\n",
    "    layers.BatchNormalization(),\n",
    "    layers.Dense(train_labels.shape[1])\n",
    "])\n",
    "\n",
    "# 调整学习率\n",
    "lr_scheduler = tf.keras.callbacks.ReduceLROnPlateau(factor=0.3, patience=5)\n",
    "\n",
    "model.compile(loss=\"mse\", optimizer=\"adam\")\n",
    "model.summary()"
   ]
  },
  {
   "cell_type": "code",
   "execution_count": 7,
   "id": "83eeb25d-a285-4864-bac5-f0fa80a6d5e9",
   "metadata": {
    "tags": []
   },
   "outputs": [
    {
     "name": "stdout",
     "output_type": "stream",
     "text": [
      "Epoch 1/50\n",
      "1250/1250 [==============================] - 4s 3ms/step - loss: 0.7586 - val_loss: 5.2519 - lr: 0.0010\n",
      "Epoch 2/50\n",
      "1250/1250 [==============================] - 4s 3ms/step - loss: 0.2816 - val_loss: 3.8848 - lr: 0.0010\n",
      "Epoch 3/50\n",
      "1250/1250 [==============================] - 4s 3ms/step - loss: 0.2480 - val_loss: 10.8065 - lr: 0.0010\n",
      "Epoch 4/50\n",
      "1250/1250 [==============================] - 4s 3ms/step - loss: 0.2521 - val_loss: 4.0316 - lr: 0.0010\n",
      "Epoch 5/50\n",
      "1250/1250 [==============================] - 4s 3ms/step - loss: 0.2554 - val_loss: 1.4032 - lr: 0.0010\n",
      "Epoch 6/50\n",
      "1250/1250 [==============================] - 4s 3ms/step - loss: 0.2572 - val_loss: 1.2245 - lr: 0.0010\n",
      "Epoch 7/50\n",
      "1250/1250 [==============================] - 4s 3ms/step - loss: 0.2313 - val_loss: 6.0709 - lr: 0.0010\n",
      "Epoch 8/50\n",
      "1250/1250 [==============================] - 4s 3ms/step - loss: 0.2282 - val_loss: 1.2033 - lr: 0.0010\n",
      "Epoch 9/50\n",
      "1250/1250 [==============================] - 4s 3ms/step - loss: 0.2220 - val_loss: 1.1343 - lr: 0.0010\n",
      "Epoch 10/50\n",
      "1250/1250 [==============================] - 4s 3ms/step - loss: 0.2190 - val_loss: 0.4555 - lr: 0.0010\n",
      "Epoch 11/50\n",
      "1250/1250 [==============================] - 4s 3ms/step - loss: 0.2081 - val_loss: 0.7869 - lr: 0.0010\n",
      "Epoch 12/50\n",
      "1250/1250 [==============================] - 4s 3ms/step - loss: 0.2047 - val_loss: 0.5873 - lr: 0.0010\n",
      "Epoch 13/50\n",
      "1250/1250 [==============================] - 4s 3ms/step - loss: 0.1938 - val_loss: 0.4135 - lr: 0.0010\n",
      "Epoch 14/50\n",
      "1250/1250 [==============================] - 4s 3ms/step - loss: 0.1887 - val_loss: 0.7900 - lr: 0.0010\n",
      "Epoch 15/50\n",
      "1250/1250 [==============================] - 4s 3ms/step - loss: 0.1830 - val_loss: 0.5387 - lr: 0.0010\n",
      "Epoch 16/50\n",
      "1250/1250 [==============================] - 4s 3ms/step - loss: 0.1781 - val_loss: 0.9674 - lr: 0.0010\n",
      "Epoch 17/50\n",
      "1250/1250 [==============================] - 4s 3ms/step - loss: 0.1729 - val_loss: 0.5334 - lr: 0.0010\n",
      "Epoch 18/50\n",
      "1250/1250 [==============================] - 4s 3ms/step - loss: 0.1669 - val_loss: 1.3420 - lr: 0.0010\n",
      "Epoch 19/50\n",
      "1250/1250 [==============================] - 4s 3ms/step - loss: 0.1548 - val_loss: 0.2999 - lr: 3.0000e-04\n",
      "Epoch 20/50\n",
      "1250/1250 [==============================] - 4s 3ms/step - loss: 0.1534 - val_loss: 0.1920 - lr: 3.0000e-04\n",
      "Epoch 21/50\n",
      "1250/1250 [==============================] - 4s 3ms/step - loss: 0.1517 - val_loss: 0.9209 - lr: 3.0000e-04\n",
      "Epoch 22/50\n",
      "1250/1250 [==============================] - 4s 3ms/step - loss: 0.1505 - val_loss: 0.1965 - lr: 3.0000e-04\n",
      "Epoch 23/50\n",
      "1250/1250 [==============================] - 4s 3ms/step - loss: 0.1494 - val_loss: 0.2896 - lr: 3.0000e-04\n",
      "Epoch 24/50\n",
      "1250/1250 [==============================] - 4s 3ms/step - loss: 0.1482 - val_loss: 0.2204 - lr: 3.0000e-04\n",
      "Epoch 25/50\n",
      "1250/1250 [==============================] - 4s 3ms/step - loss: 0.1478 - val_loss: 0.2547 - lr: 3.0000e-04\n",
      "Epoch 26/50\n",
      "1250/1250 [==============================] - 4s 3ms/step - loss: 0.1443 - val_loss: 0.2985 - lr: 9.0000e-05\n",
      "Epoch 27/50\n",
      "1250/1250 [==============================] - 4s 3ms/step - loss: 0.1439 - val_loss: 0.1560 - lr: 9.0000e-05\n",
      "Epoch 28/50\n",
      "1250/1250 [==============================] - 4s 3ms/step - loss: 0.1434 - val_loss: 0.1782 - lr: 9.0000e-05\n",
      "Epoch 29/50\n",
      "1250/1250 [==============================] - 4s 3ms/step - loss: 0.1426 - val_loss: 0.1579 - lr: 9.0000e-05\n",
      "Epoch 30/50\n",
      "1250/1250 [==============================] - 4s 3ms/step - loss: 0.1434 - val_loss: 0.1607 - lr: 9.0000e-05\n",
      "Epoch 31/50\n",
      "1250/1250 [==============================] - 4s 3ms/step - loss: 0.1421 - val_loss: 0.1394 - lr: 9.0000e-05\n",
      "Epoch 32/50\n",
      "1250/1250 [==============================] - 4s 3ms/step - loss: 0.1421 - val_loss: 0.1491 - lr: 9.0000e-05\n",
      "Epoch 33/50\n",
      "1250/1250 [==============================] - 4s 3ms/step - loss: 0.1424 - val_loss: 0.1311 - lr: 9.0000e-05\n",
      "Epoch 34/50\n",
      "1250/1250 [==============================] - 4s 3ms/step - loss: 0.1420 - val_loss: 0.2077 - lr: 9.0000e-05\n",
      "Epoch 35/50\n",
      "1250/1250 [==============================] - 4s 3ms/step - loss: 0.1417 - val_loss: 0.1408 - lr: 9.0000e-05\n",
      "Epoch 36/50\n",
      "1250/1250 [==============================] - 4s 3ms/step - loss: 0.1417 - val_loss: 0.1627 - lr: 9.0000e-05\n",
      "Epoch 37/50\n",
      "1250/1250 [==============================] - 4s 3ms/step - loss: 0.1415 - val_loss: 0.1738 - lr: 9.0000e-05\n",
      "Epoch 38/50\n",
      "1250/1250 [==============================] - 4s 3ms/step - loss: 0.1422 - val_loss: 0.1757 - lr: 9.0000e-05\n",
      "Epoch 39/50\n",
      "1250/1250 [==============================] - 4s 3ms/step - loss: 0.1401 - val_loss: 0.1281 - lr: 2.7000e-05\n",
      "Epoch 40/50\n",
      "1250/1250 [==============================] - 4s 3ms/step - loss: 0.1403 - val_loss: 0.1232 - lr: 2.7000e-05\n",
      "Epoch 41/50\n",
      "1250/1250 [==============================] - 4s 3ms/step - loss: 0.1400 - val_loss: 0.1223 - lr: 2.7000e-05\n",
      "Epoch 42/50\n",
      "1250/1250 [==============================] - 4s 3ms/step - loss: 0.1402 - val_loss: 0.1249 - lr: 2.7000e-05\n",
      "Epoch 43/50\n",
      "1250/1250 [==============================] - 4s 3ms/step - loss: 0.1405 - val_loss: 0.1228 - lr: 2.7000e-05\n",
      "Epoch 44/50\n",
      "1250/1250 [==============================] - 4s 3ms/step - loss: 0.1410 - val_loss: 0.1557 - lr: 2.7000e-05\n",
      "Epoch 45/50\n",
      "1250/1250 [==============================] - 4s 3ms/step - loss: 0.1408 - val_loss: 0.1291 - lr: 2.7000e-05\n",
      "Epoch 46/50\n",
      "1250/1250 [==============================] - 4s 3ms/step - loss: 0.1398 - val_loss: 0.1263 - lr: 2.7000e-05\n",
      "Epoch 47/50\n",
      "1250/1250 [==============================] - 4s 3ms/step - loss: 0.1399 - val_loss: 0.1185 - lr: 8.1000e-06\n",
      "Epoch 48/50\n",
      "1250/1250 [==============================] - 4s 3ms/step - loss: 0.1395 - val_loss: 0.1206 - lr: 8.1000e-06\n",
      "Epoch 49/50\n",
      "1250/1250 [==============================] - 4s 3ms/step - loss: 0.1395 - val_loss: 0.1184 - lr: 8.1000e-06\n",
      "Epoch 50/50\n",
      "1250/1250 [==============================] - 4s 3ms/step - loss: 0.1402 - val_loss: 0.1227 - lr: 8.1000e-06\n"
     ]
    },
    {
     "data": {
      "image/png": "[encoded data removed]",
      "text/plain": [
       "<Figure size 432x288 with 1 Axes>"
      ]
     },
     "metadata": {
      "needs_background": "light"
     },
     "output_type": "display_data"
    },
    {
     "name": "stdout",
     "output_type": "stream",
     "text": [
      "[[ 0.307  0.024  0.268 ...  0.742  0.341  2.054]\n",
      " [ 0.924 -0.008  0.074 ...  0.598  0.936  0.781]\n",
      " [ 1.    -0.015  1.014 ...  0.788  0.612  0.903]\n",
      " ...\n",
      " [ 0.722 -0.006  0.453 ...  0.672  0.609  0.379]\n",
      " [ 0.502 -0.003  0.428 ...  0.44  -0.239  0.663]\n",
      " [ 0.566  0.015 -0.303 ...  0.665  0.027 -0.231]] (2998, 8)\n",
      "y1 MSE:0.1189\n",
      "y1 MSE:2998.0000 ------ 2998\n"
     ]
    }
   ],
   "source": [
    "# 添加验证集\n",
    "history = model.fit(train_features, train_labels, epochs=50, batch_size=32, validation_split=0.2, callbacks=[lr_scheduler])\n",
    "plt.plot(history.history['loss'], label='Training Loss')\n",
    "plt.plot(history.history['val_loss'], label='Validation Loss')\n",
    "plt.xlabel('Epoch')\n",
    "plt.ylabel('Loss')\n",
    "plt.legend()\n",
    "plt.show()\n",
    "\n",
    "test_preds = model.predict(test_features)\n",
    "print(test_preds, test_preds.shape)\n",
    "print(\"y1 MSE:%.4f\" % mean_squared_error(test_labels, test_preds))\n",
    "print(\"y1 MSE:%.4f\" % len(test_labels), '------', len(test_preds))\n"
   ]
  },
  {
   "cell_type": "code",
   "execution_count": 8,
   "id": "b90719d8-bb2a-4284-b64e-7c810182f91a",
   "metadata": {},
   "outputs": [
    {
     "name": "stdout",
     "output_type": "stream",
     "text": [
      "(50000, 18) (50000, 8)\n",
      "(2998, 18) (2998, 8)\n"
     ]
    }
   ],
   "source": [
    "train_features = dataset.copy()\n",
    "test_features = test_dataset.copy()\n",
    "\n",
    "train_labels = train_features[['补偿'+str(i) for i in range(8)]].copy()\n",
    "test_labels = test_features[['补偿'+str(i) for i in range(8)]].copy()\n",
    "\n",
    "train_features = train_features.drop(['补偿'+str(i) for i in range(8)], axis=1)\n",
    "test_features = test_features.drop(['补偿'+str(i) for i in range(8)], axis=1)\n",
    "\n",
    "print(train_features.shape, train_labels.shape)\n",
    "print(test_features.shape, test_labels.shape)"
   ]
  },
  {
   "cell_type": "code",
   "execution_count": 9,
   "id": "808ef098-39e4-4492-b3d8-573ad9cb9cea",
   "metadata": {
    "tags": []
   },
   "outputs": [
    {
     "name": "stdout",
     "output_type": "stream",
     "text": [
      "y1 MSE:0.1189\n",
      "y1 MSE:2998.0000 ------ 2998\n"
     ]
    }
   ],
   "source": [
    "test_preds = model.predict(test_features)\n",
    "print(\"y1 MSE:%.4f\" % mean_squared_error(test_labels, test_preds))\n",
    "print(\"y1 MSE:%.4f\" % len(test_labels), '------',len(test_preds))"
   ]
  },
  {
   "cell_type": "code",
   "execution_count": 10,
   "id": "7b19775e-4f80-48e5-ad4d-591b10d8be56",
   "metadata": {
    "tags": []
   },
   "outputs": [
    {
     "name": "stderr",
     "output_type": "stream",
     "text": [
      "2023-08-28 12:19:14.310415: W tensorflow/python/util/util.cc:368] Sets are not currently considered sequences, but this may change in the future, so consider avoiding using them.\n"
     ]
    },
    {
     "name": "stdout",
     "output_type": "stream",
     "text": [
      "INFO:tensorflow:Assets written to: /models/slot0/20230828201914/assets\n"
     ]
    }
   ],
   "source": [
    "import pytz\n",
    "from datetime import datetime\n",
    "\n",
    "model_version =  datetime.now(pytz.timezone('Asia/Shanghai')).strftime('%Y%m%d%H%M%S')\n",
    "tf.keras.models.save_model(\n",
    "    model,\n",
    "    f'/models/slot0/{model_version}/', # v1/models/slot0/为tensorflow-serving的模型根目录\n",
    "    overwrite=True,\n",
    "    include_optimizer=True,\n",
    "    save_format=None,\n",
    "    signatures=None,\n",
    "    options=None\n",
    ")"
   ]
  },
  {
   "cell_type": "code",
   "execution_count": 12,
   "id": "1c6d83ca-d630-4c18-b0fb-6acb790d3c58",
   "metadata": {
    "tags": []
   },
   "outputs": [
    {
     "name": "stdout",
     "output_type": "stream",
     "text": [
      "{\"inputs\": [[1.4158, 2.9711, 10.7935, 7.5279, 2.3352, 8.1042, 2.3096, 3.3367, 11.8639, 12.7142, 1.8581, 0.3898, 19.8309, 19.771, 0.0001, 1.7768, 171.764, 1434.24]]}\n",
      "{'outputs': [[0.306851804, 0.0244900789, 0.268039346, -0.107504457, -0.816312671, 0.74183, 0.341438711, 2.05432606]]}\n",
      "{'outputs': [[0.331511, -0.932553, 0.285048, -0.1435, -0.833982, 0.767568, 0.463969, 1.9048]]\n",
      "y1 MSE:0.1196\n"
     ]
    }
   ],
   "source": [
    "import json\n",
    "import requests\n",
    "from pprint import pprint\n",
    "\n",
    "req_data = json.dumps({\n",
    "            'inputs': test_features.values[:1].tolist()\n",
    "        })\n",
    "print(req_data)\n",
    "\n",
    "response = requests.post(f'http://fireeye-test-model-container:8501/v1/models/slot0/versions/{model_version}:predict', # 根据部署地址填写\n",
    "                         data=req_data,\n",
    "                         headers={\"content-type\": \"application/json\"})\n",
    "if response.status_code != 200:\n",
    "    raise RuntimeError('Request tf-serving failed: ' + response.text)\n",
    "resp_data = json.loads(response.text)\n",
    "if 'outputs' not in resp_data \\\n",
    "                    or type(resp_data['outputs']) is not list:\n",
    "    raise ValueError('Malformed tf-serving response')\n",
    "\n",
    "print(resp_data)\n",
    "print(\"{'outputs':\",test_labels.values[:1].tolist())\n",
    "\n",
    "print(\"y1 MSE:%.4f\" % mean_squared_error(test_labels.values[:1].tolist(), resp_data['outputs']))"
   ]
  },
  {
   "cell_type": "code",
   "execution_count": null,
   "id": "206a8d1d-3722-4367-8f1f-9ad789dff943",
   "metadata": {},
   "outputs": [],
   "source": []
  }
 ],
 "metadata": {
  "kernelspec": {
   "display_name": "Python 3 (ipykernel)",
   "language": "python",
   "name": "python3"
  },
  "language_info": {
   "codemirror_mode": {
    "name": "ipython",
    "version": 3
   },
   "file_extension": ".py",
   "mimetype": "text/x-python",
   "name": "python",
   "nbconvert_exporter": "python",
   "pygments_lexer": "ipython3",
   "version": "3.7.13"
  }
 },
 "nbformat": 4,
 "nbformat_minor": 5
}
